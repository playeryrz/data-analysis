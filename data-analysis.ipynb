{
 "cells": [
  {
   "cell_type": "code",
   "execution_count": null,
   "id": "83d25c78-cd9f-44fc-ada6-c761b6946cfd",
   "metadata": {},
   "outputs": [],
   "source": [
    "import pandas as pd\n",
    "data1 = pd.read_excel(\"商品销售数据.xlsx\",sheet_name=\"信息表\")\n",
    "data1\n",
    "data2 = pd.read_excel(\"商品销售数据.xlsx\",sheet_name=\"销售数据表\")\n",
    "data2\n",
    "data_all = pd.merge(data1, data2, on=\"商品编号\",how=\"right\")\n",
    "data_all[\"销售金额\"] = data_all[\"商品销售价\"]*data_all[\"订单数量\"]\n",
    "data_all[\"月份\"] = pd.to_datetime(data_all[\"订单日期\"]).dt.month\n",
    "monthly_sales = data_all.groupby(\"月份\")[\"销售金额\"].sum().reset_index()\n",
    "\n",
    "print(monthly_sales)"
   ]
  }
 ],
 "metadata": {
  "kernelspec": {
   "display_name": "Python 3 (ipykernel)",
   "language": "python",
   "name": "python3"
  },
  "language_info": {
   "codemirror_mode": {
    "name": "ipython",
    "version": 3
   },
   "file_extension": ".py",
   "mimetype": "text/x-python",
   "name": "python",
   "nbconvert_exporter": "python",
   "pygments_lexer": "ipython3",
   "version": "3.12.3"
  }
 },
 "nbformat": 4,
 "nbformat_minor": 5
}
